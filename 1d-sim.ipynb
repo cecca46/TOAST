{
 "cells": [
  {
   "cell_type": "code",
   "execution_count": 12,
   "metadata": {},
   "outputs": [],
   "source": [
    "import numpy as np\n",
    "import pandas as pd\n",
    "from spatial_OT.OT import *\n",
    "from spatial_OT.utils import *\n",
    "from scipy.spatial import distance\n",
    "import numpy as np\n",
    "import matplotlib.pyplot as plt\n",
    "import ot"
   ]
  },
  {
   "cell_type": "code",
   "execution_count": 8,
   "metadata": {},
   "outputs": [],
   "source": [
    "def process_slice(csv_path, k):\n",
    "    \"\"\"Load data, build k-NN graph, compute spatial entropy, and average neighbor expression.\"\"\"\n",
    "    print(f\"Processing {csv_path}...\")\n",
    "\n",
    "    # Load CSV\n",
    "    slice_data = pd.read_csv(csv_path)\n",
    "\n",
    "    # Extract features\n",
    "    expression = slice_data.iloc[:, :-3]\n",
    "    locations = slice_data.iloc[:, -3:-2]\n",
    "    cells = slice_data.iloc[:, -2:-1]\n",
    "    clustered = slice_data.iloc[:, -1:]\n",
    "\n",
    "    # Build k-NN graph\n",
    "    G = build_knn_graph(slice_data, k=k)\n",
    "\n",
    "    # Compute spatial entropy\n",
    "    spatial_entropies = compute_spatial_entropy(G)\n",
    "    slice_data[\"spatial_entropy\"] = slice_data.index.map(spatial_entropies)\n",
    "    entropy = slice_data[\"spatial_entropy\"]\n",
    "\n",
    "    # Compute average neighbor expression\n",
    "    average_expression = compute_average_neighbor_expression(G, expression)\n",
    "\n",
    "    return {\n",
    "        \"data\": slice_data,\n",
    "        \"expression\": expression,\n",
    "        \"locations\": locations,\n",
    "        \"cells\": cells,\n",
    "        \"clustered\": clustered,\n",
    "        \"graph\": G,\n",
    "        \"entropy\": entropy,\n",
    "        \"average_expression\": average_expression,\n",
    "    }\n",
    "\n",
    "def compute_distance_matrices(slice1_expr, slice2_expr, slice1_loc, slice2_loc, slice1_entropy, slice2_entropy, slice1_avg, slice2_avg, G1, G2, kl_divergence=False):\n",
    "    \"\"\"Compute distance matrices M, C1, C2, C3, and C4.\"\"\"\n",
    "    \n",
    "    print(\"Computing distance matrices...\")\n",
    "\n",
    "    M = distance.cdist(slice1_expr.values, slice2_expr.values).astype(float)\n",
    "    C1 = distance.cdist(slice1_loc.values, slice1_loc.values).astype(float)\n",
    "    C2 = distance.cdist(slice2_loc.values, slice2_loc.values).astype(float)\n",
    "\n",
    "    if kl_divergence:\n",
    "        C3 = compute_kl_matrix(G1, G2)\n",
    "    else:\n",
    "        C3 = np.abs(slice1_entropy.values[:, np.newaxis] - slice2_entropy.values[np.newaxis, :])\n",
    "\n",
    "    C4 = distance.cdist(slice1_avg.values, slice2_avg.values).astype(float)\n",
    "\n",
    "    return M, C1, C2, C3, C4\n",
    "\n",
    "def normalize_matrices(*matrices):\n",
    "    \"\"\"Normalize matrices by their maximum value.\"\"\"\n",
    "    return [mat / mat.max() if mat.max() > 0 else mat for mat in matrices]"
   ]
  },
  {
   "cell_type": "code",
   "execution_count": 9,
   "metadata": {},
   "outputs": [
    {
     "name": "stdout",
     "output_type": "stream",
     "text": [
      "Processing data/simulations/1D_sim_t1.csv...\n",
      "Processing data/simulations/1D_sim_t2.csv...\n",
      "Computing distance matrices...\n"
     ]
    }
   ],
   "source": [
    "# Define input files\n",
    "slice_paths = [\"data/simulations/1D_sim_t1.csv\", \"data/simulations/1D_sim_t2.csv\"]\n",
    "k = 5\n",
    "\n",
    "# Process both slices\n",
    "slice1 = process_slice(slice_paths[0], k)\n",
    "slice2 = process_slice(slice_paths[1], k)\n",
    "\n",
    "# Compute distance matrices\n",
    "M, C1, C2, C3, C4 = compute_distance_matrices(\n",
    "    slice1[\"expression\"], slice2[\"expression\"], \n",
    "    slice1[\"locations\"], slice2[\"locations\"], \n",
    "    slice1[\"entropy\"], slice2[\"entropy\"], \n",
    "    slice1[\"average_expression\"], slice2[\"average_expression\"], \n",
    "    slice1[\"graph\"], slice2[\"graph\"], kl_divergence=False\n",
    ")\n",
    "\n",
    "# Normalize matrices\n",
    "M, C1, C2, C3, C4 = normalize_matrices(M, C1, C2, C3, C4)"
   ]
  },
  {
   "cell_type": "code",
   "execution_count": 10,
   "metadata": {},
   "outputs": [
    {
     "name": "stdout",
     "output_type": "stream",
     "text": [
      "Computing standard FGW with alpha=0.1...\n",
      "Computing FGW-SN with alpha=0.1...\n",
      "Computing standard FGW with alpha=0.3...\n",
      "Computing FGW-SN with alpha=0.3...\n",
      "Computing standard FGW with alpha=0.5...\n",
      "Computing FGW-SN with alpha=0.5...\n",
      "Computing standard FGW with alpha=0.8...\n",
      "Computing FGW-SN with alpha=0.8...\n",
      "Computing standard FGW with alpha=1...\n",
      "Computing FGW-SN with alpha=1...\n"
     ]
    }
   ],
   "source": [
    "p = ot.unif(slice1[\"expression\"].shape[0])\n",
    "q = ot.unif(slice2[\"expression\"].shape[0])\n",
    "alpha_values = [0.1, 0.3, 0.5, 0.8, 1]\n",
    "epsilon = 0.1\n",
    "\n",
    "results = []\n",
    "\n",
    "def run_transport(p, q, epsilon, alpha, C1, C2, M, C3=None, C4=None):\n",
    "    \"\"\"Compute transport map with or without additional cost matrices.\"\"\"\n",
    "    G0 = np.outer(p, q)\n",
    "    if C3 is not None and C4 is not None:\n",
    "        print(f\"Computing FGW-SN with alpha={alpha}...\")\n",
    "        return compute_transport(G0, epsilon, alpha, C1, C2, p, q, M, C3, C4)\n",
    "    else:\n",
    "        print(f\"Computing standard FGW with alpha={alpha}...\")\n",
    "        return compute_transport(G0, epsilon, alpha, C1, C2, p, q, M)\n",
    "\n",
    "def evaluate_mapping(label_1, label_2, transport_map, name):\n",
    "    \"\"\"Compute mapping accuracy for given labels.\"\"\"\n",
    "    return mapping_accuracy(label_1.values.flatten(), label_2.values.flatten(), transport_map)\n",
    "\n",
    "# Run for different alpha values and store results\n",
    "for alpha in alpha_values:\n",
    "    FGW = run_transport(p, q, epsilon, alpha, C1, C2, M)  # Standard FGW\n",
    "    FGW_SN = run_transport(p, q, epsilon, alpha, C1, C2, M, C3, C4)  # FGW with spatial terms\n",
    "\n",
    "    # Compute accuracies\n",
    "    fgw_cell_acc = evaluate_mapping(slice1[\"cells\"], slice2[\"cells\"], FGW, \"Cell Type FGW\")\n",
    "    fgw_clustered_acc = evaluate_mapping(slice1[\"clustered\"], slice2[\"clustered\"], FGW, \"Clustered FGW\")\n",
    "\n",
    "    fgw_sc_cell_acc = evaluate_mapping(slice1[\"cells\"], slice2[\"cells\"], FGW_SN, \"Cell Type FGW-SN\")\n",
    "    fgw_sc_clustered_acc = evaluate_mapping(slice1[\"clustered\"], slice2[\"clustered\"], FGW_SN, \"Clustered FGW-SN\")\n",
    "\n",
    "    # Append results\n",
    "    results.append({\n",
    "        \"alpha\": alpha,\n",
    "        \"FGW_Cell_Acc\": fgw_cell_acc,\n",
    "        \"FGW_Clustered_Acc\": fgw_clustered_acc,\n",
    "        \"FGW-SN_Cell_Acc\": fgw_sc_cell_acc,\n",
    "        \"FGW-SN_Clustered_Acc\": fgw_sc_clustered_acc\n",
    "    })\n"
   ]
  },
  {
   "cell_type": "code",
   "execution_count": 13,
   "metadata": {},
   "outputs": [
    {
     "data": {
      "image/png": "[encoded data removed]",
      "text/plain": [
       "<Figure size 1200x500 with 2 Axes>"
      ]
     },
     "metadata": {},
     "output_type": "display_data"
    }
   ],
   "source": [
    "#FIGURE 1B\n",
    "\n",
    "# Create a figure with two subplots\n",
    "results_df = pd.DataFrame(results)\n",
    "fig, axes = plt.subplots(1, 2, figsize=(12, 5))\n",
    "\n",
    "# Clustered Accuracy Plot\n",
    "axes[0].scatter(results_df[\"alpha\"], results_df[\"FGW_Clustered_Acc\"], label=\"FGW\", color=\"red\")\n",
    "axes[0].scatter(results_df[\"alpha\"], results_df[\"FGW-SN_Clustered_Acc\"], label=\"FGW-SN\", color=\"blue\")\n",
    "axes[0].set_title(\"Clustered Accuracy\")\n",
    "axes[0].set_xlabel(\"Alpha\")\n",
    "axes[0].set_ylabel(\"Accuracy\")\n",
    "axes[0].legend()\n",
    "axes[0].grid(True)\n",
    "\n",
    "# Cell Type Accuracy Plot\n",
    "axes[1].scatter(results_df[\"alpha\"], results_df[\"FGW_Cell_Acc\"], label=\"FGW\", color=\"red\")\n",
    "axes[1].scatter(results_df[\"alpha\"], results_df[\"FGW-SN_Cell_Acc\"], label=\"FGW-SN\", color=\"blue\")\n",
    "axes[1].set_title(\"Cell Type Accuracy\")\n",
    "axes[1].set_xlabel(\"Alpha\")\n",
    "axes[1].set_ylabel(\"Accuracy\")\n",
    "axes[1].legend()\n",
    "axes[1].grid(True)\n",
    "\n",
    "# Adjust layout and display plot\n",
    "plt.tight_layout()\n",
    "plt.show()"
   ]
  }
 ],
 "metadata": {
  "kernelspec": {
   "display_name": "visium",
   "language": "python",
   "name": "python3"
  },
  "language_info": {
   "codemirror_mode": {
    "name": "ipython",
    "version": 3
   },
   "file_extension": ".py",
   "mimetype": "text/x-python",
   "name": "python",
   "nbconvert_exporter": "python",
   "pygments_lexer": "ipython3",
   "version": "3.11.0"
  }
 },
 "nbformat": 4,
 "nbformat_minor": 2
}
