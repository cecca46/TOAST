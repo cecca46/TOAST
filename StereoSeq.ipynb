{
 "cells": [
  {
   "cell_type": "code",
   "execution_count": 2,
   "metadata": {},
   "outputs": [],
   "source": [
    "import numpy as np\n",
    "import pandas as pd\n",
    "from spatial_OT.OT import *\n",
    "from spatial_OT.utils import *\n",
    "from scipy.spatial import distance\n",
    "import numpy as np\n",
    "import scanpy as sc\n",
    "import anndata as ad\n",
    "from sklearn.neighbors import NearestNeighbors\n",
    "from scipy.spatial.distance import jensenshannon, cdist\n",
    "import ot\n",
    "import warnings\n",
    "warnings.filterwarnings('ignore')"
   ]
  },
  {
   "cell_type": "code",
   "execution_count": 3,
   "metadata": {},
   "outputs": [],
   "source": [
    "consecutive = [[\"Stage44.h5ad\", \"Stage54.h5ad\"], [\"Stage54.h5ad\", \"Stage57.h5ad\"], [\"Stage57.h5ad\", \"Juvenile.h5ad\"],\n",
    "                [\"Juvenile.h5ad\", \"Adult.h5ad\"]]"
   ]
  },
  {
   "cell_type": "code",
   "execution_count": 4,
   "metadata": {},
   "outputs": [],
   "source": [
    "# Store results\n",
    "results = []\n",
    "\n",
    "def compute_spatial_fgw_alignment(slice1, slice2, alpha, epsilon):\n",
    "    \"\"\"Compute FGW and FGW-SN alignment and return accuracy and JS divergence scores.\"\"\"\n",
    "    joint_adata = sc.concat([slice1, slice2])\n",
    "    sc.pp.normalize_total(joint_adata, inplace=True)\n",
    "    sc.pp.log1p(joint_adata)\n",
    "    sc.pp.pca(joint_adata, n_comps=n_comps)\n",
    "    joint_datamatrix = joint_adata.obsm['X_pca']\n",
    "    \n",
    "    X = joint_datamatrix[:slice1.shape[0], :]\n",
    "    Y = joint_datamatrix[slice1.shape[0]:, :]\n",
    "    \n",
    "    # Compute spatial graphs\n",
    "    coords1 = pd.DataFrame(slice1.obsm[\"spatial\"], columns=[\"x\", \"y\"])\n",
    "    X_df = pd.DataFrame(X, columns=[f\"PC{i+1}\" for i in range(X.shape[1])])\n",
    "    X_df[\"x\"], X_df[\"y\"], X_df[\"cell_type\"] = coords1[\"x\"].values, coords1[\"y\"].values, slice1.obs[\"Annotation\"].values\n",
    "\n",
    "    G1 = build_knn_graph_from2d(X_df, k=k)\n",
    "    X_df[\"spatial_entropy\"] = X_df.index.map(compute_spatial_entropy(G1))\n",
    "    slice1_avg_expr = compute_average_neighbor_expression(G1, pd.DataFrame(X))\n",
    "    \n",
    "    coords2 = pd.DataFrame(slice2.obsm[\"spatial\"], columns=[\"x\", \"y\"])\n",
    "    Y_df = pd.DataFrame(Y, columns=[f\"PC{i+1}\" for i in range(Y.shape[1])])\n",
    "    Y_df[\"x\"], Y_df[\"y\"], Y_df[\"cell_type\"] = coords2[\"x\"].values, coords2[\"y\"].values, slice2.obs[\"Annotation\"].values\n",
    "\n",
    "    G2 = build_knn_graph_from2d(Y_df, k=k)\n",
    "    Y_df[\"spatial_entropy\"] = Y_df.index.map(compute_spatial_entropy(G2))\n",
    "    slice2_avg_expr = compute_average_neighbor_expression(G2, pd.DataFrame(Y))\n",
    "    \n",
    "    # Compute cost matrices\n",
    "    M = distance.cdist(X, Y).astype(float)\n",
    "    C1 = distance.cdist(slice1.obsm[\"spatial\"], slice1.obsm[\"spatial\"]).astype(float)\n",
    "    C2 = distance.cdist(slice2.obsm[\"spatial\"], slice2.obsm[\"spatial\"]).astype(float)\n",
    "    C3 = np.abs(X_df[\"spatial_entropy\"].values[:, np.newaxis] - Y_df[\"spatial_entropy\"].values[np.newaxis, :])\n",
    "    C4 = distance.cdist(slice1_avg_expr.values, slice2_avg_expr.values).astype(float)\n",
    "\n",
    "    # Normalize matrices\n",
    "    for mat in [M, C1, C2, C3, C4]:\n",
    "        mat /= mat.max() if mat.max() > 0 else 1  # Avoid division by zero\n",
    "    \n",
    "    # Compute transport maps\n",
    "    p, q = ot.unif(X.shape[0]), ot.unif(Y.shape[0])\n",
    "    G0 = np.outer(p, q)\n",
    "\n",
    "    FGW_SN = compute_transport(G0, epsilon, alpha, C1, C2, p, q, M, C3, C4)\n",
    "\n",
    "    acc_fgw_sn = compute_accuracy_max_prob(FGW_SN, slice1.obs['Annotation'], slice2.obs['Annotation'])\n",
    "    \n",
    "    # Compute JS divergence\n",
    "    js_fgw_sn = compute_js_divergence_before_after(slice1, compute_transported_adata_argmax(slice1, slice2, FGW_SN), k=20, cell_type_key=\"Annotation\")\n",
    "\n",
    "    return acc_fgw_sn, js_fgw_sn"
   ]
  },
  {
   "cell_type": "code",
   "execution_count": null,
   "metadata": {},
   "outputs": [
    {
     "name": "stdout",
     "output_type": "stream",
     "text": [
      "Processing alignment: Stage44.h5ad - Stage54.h5ad\n",
      "Accuracy: 0.613, JS divergence: 0.2818\n"
     ]
    }
   ],
   "source": [
    "n_comps = 30  \n",
    "k = 5 \n",
    "alpha = 0.5  \n",
    "epsilon = 0.1  \n",
    "\n",
    "# Run for all consecutive slices\n",
    "for i in consecutive:\n",
    "    print(f\"Processing alignment: {i[0]} - {i[1]}\")\n",
    "    \n",
    "    slice1 = sc.read_h5ad('../Dest-OT/data/' + i[0])\n",
    "    slice2 = sc.read_h5ad('../Dest-OT/data/' + i[1])\n",
    "\n",
    "    acc_fgw_sn, js_fgw_sn = compute_spatial_fgw_alignment(slice1, slice2, alpha, epsilon)\n",
    "    print(f\"Accuracy: {acc_fgw_sn:.3f}, JS divergence: {js_fgw_sn:.4f}\")"
   ]
  }
 ],
 "metadata": {
  "kernelspec": {
   "display_name": "visium",
   "language": "python",
   "name": "python3"
  },
  "language_info": {
   "codemirror_mode": {
    "name": "ipython",
    "version": 3
   },
   "file_extension": ".py",
   "mimetype": "text/x-python",
   "name": "python",
   "nbconvert_exporter": "python",
   "pygments_lexer": "ipython3",
   "version": "3.11.0"
  }
 },
 "nbformat": 4,
 "nbformat_minor": 2
}
